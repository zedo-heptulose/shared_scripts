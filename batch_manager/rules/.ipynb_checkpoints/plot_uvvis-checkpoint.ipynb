{
 "cells": [
  {
   "cell_type": "code",
   "execution_count": 11,
   "id": "e9eafcf2-07d3-467c-9493-4632fa30c17d",
   "metadata": {},
   "outputs": [],
   "source": [
    "import pandas as pd\n",
    "import matplotlib.pyplot as plt"
   ]
  },
  {
   "cell_type": "code",
   "execution_count": 12,
   "id": "837a59e3-0eb1-4546-b2a0-497bad69d872",
   "metadata": {
    "scrolled": true
   },
   "outputs": [
    {
     "name": "stdout",
     "output_type": "stream",
     "text": [
      "/gpfs/home/gdb20/mike/tddft\n"
     ]
    }
   ],
   "source": [
    "cd /gpfs/home/gdb20/mike/tddft"
   ]
  },
  {
   "cell_type": "code",
   "execution_count": 13,
   "id": "b58b6d62-2639-4b96-9746-20b92c25b819",
   "metadata": {},
   "outputs": [
    {
     "name": "stdout",
     "output_type": "stream",
     "text": [
      "/gpfs/home/gdb20/mike/tddft/cby_singlet_uks_cam_b3lyp_631gdp_brsym_tddft\n"
     ]
    }
   ],
   "source": [
    "cd cby_singlet_uks_cam_b3lyp_631gdp_brsym_tddft"
   ]
  },
  {
   "cell_type": "code",
   "execution_count": 14,
   "id": "d809e943-b9b7-4c1a-a35c-6bada8a15276",
   "metadata": {},
   "outputs": [
    {
     "name": "stdout",
     "output_type": "stream",
     "text": [
      "cby_singlet_uks_cam_b3lyp_631gdp_brsym_tddft.cis\n",
      "cby_singlet_uks_cam_b3lyp_631gdp_brsym_tddft.densities\n",
      "cby_singlet_uks_cam_b3lyp_631gdp_brsym_tddft.gbw\n",
      "cby_singlet_uks_cam_b3lyp_631gdp_brsym_tddft.inp\n",
      "cby_singlet_uks_cam_b3lyp_631gdp_brsym_tddft.out\n",
      "cby_singlet_uks_cam_b3lyp_631gdp_brsym_tddft.out.abs.dat\n",
      "cby_singlet_uks_cam_b3lyp_631gdp_brsym_tddft.out.abs.stk\n",
      "cby_singlet_uks_cam_b3lyp_631gdp_brsym_tddft_property.txt\n",
      "cby_singlet_uks_cam_b3lyp_631gdp_brsym_tddft.qro\n",
      "cby_singlet_uks_cam_b3lyp_631gdp_brsym_tddft.sh\n",
      "cby_singlet_uks_cam_b3lyp_631gdp_brsym_tddft.uco\n",
      "cby_singlet_uks_cam_b3lyp_631gdp_brsym_tddft.uno\n",
      "cby_singlet_uks_cam_b3lyp_631gdp_brsym_tddft.unoloc\n",
      "cby_singlet_uks_cam_b3lyp_631gdp_brsym_tddft.unso\n",
      "slurm-9927283.out\n"
     ]
    }
   ],
   "source": [
    "ls"
   ]
  },
  {
   "cell_type": "code",
   "execution_count": null,
   "id": "b9a6e08b-e4d5-4813-a45f-b516ac1f1316",
   "metadata": {},
   "outputs": [],
   "source": []
  }
 ],
 "metadata": {
  "kernelspec": {
   "display_name": "Python 3 (ipykernel)",
   "language": "python",
   "name": "python3"
  },
  "language_info": {
   "codemirror_mode": {
    "name": "ipython",
    "version": 3
   },
   "file_extension": ".py",
   "mimetype": "text/x-python",
   "name": "python",
   "nbconvert_exporter": "python",
   "pygments_lexer": "ipython3",
   "version": "3.11.5"
  }
 },
 "nbformat": 4,
 "nbformat_minor": 5
}
