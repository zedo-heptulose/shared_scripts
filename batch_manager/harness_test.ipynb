{
 "cells": [
  {
   "cell_type": "code",
   "execution_count": 1,
   "id": "f43081de-5237-4e08-acb0-14d2c189d238",
   "metadata": {},
   "outputs": [],
   "source": [
    "import batch_runner\n",
    "import job_harness"
   ]
  },
  {
   "cell_type": "code",
   "execution_count": 2,
   "id": "8c43f103-6c4b-4bb3-b44a-52b9cc338f11",
   "metadata": {},
   "outputs": [],
   "source": [
    "br = batch_runner.BatchRunner()\n",
    "job = job_harness.JobHarness()\n",
    "job.job_name = 'bruh_momento'"
   ]
  },
  {
   "cell_type": "code",
   "execution_count": 3,
   "id": "e1343669-0a48-4e50-874b-8daba690a41f",
   "metadata": {
    "scrolled": true
   },
   "outputs": [
    {
     "name": "stdout",
     "output_type": "stream",
     "text": [
      "bruh_momento\n"
     ]
    }
   ],
   "source": [
    "br.jobs.append(job)\n",
    "print(br.jobs[0].job_name)"
   ]
  },
  {
   "cell_type": "code",
   "execution_count": 4,
   "id": "7684e32f-63b3-42a7-8036-689f149475d7",
   "metadata": {},
   "outputs": [],
   "source": [
    "br.write_json()"
   ]
  },
  {
   "cell_type": "code",
   "execution_count": 5,
   "id": "9a1802ad-2c2f-4faa-b44e-6075221e888f",
   "metadata": {},
   "outputs": [
    {
     "name": "stdout",
     "output_type": "stream",
     "text": [
      "./test\n",
      "[{'directory': './', 'job_name': 'bruh_momento', 'status': 'not_started', 'job_id': None, 'restart': True, 'ruleset': 'rules/gaussian_rules.dat'}]\n"
     ]
    }
   ],
   "source": [
    "br.read_json()"
   ]
  },
  {
   "cell_type": "code",
   "execution_count": 6,
   "id": "ae9e7fb3-2f13-475b-842d-24f8980dede1",
   "metadata": {},
   "outputs": [
    {
     "name": "stdout",
     "output_type": "stream",
     "text": [
      "bruh_momento\n"
     ]
    }
   ],
   "source": [
    "print(br.jobs[0].job_name)"
   ]
  },
  {
   "cell_type": "code",
   "execution_count": 7,
   "id": "1e0b6d44-ccd6-4cd0-afcf-878ef431c45e",
   "metadata": {},
   "outputs": [],
   "source": [
    "br.from_dict(br.to_dict())"
   ]
  },
  {
   "cell_type": "code",
   "execution_count": 8,
   "id": "7dba80e9-5630-4c88-9942-e4b7b43524be",
   "metadata": {},
   "outputs": [
    {
     "name": "stdout",
     "output_type": "stream",
     "text": [
      "{'batch_name': 'test', 'scratch_dir': './', 'jobs': [], 'batchfile': None, 'ledger_filename': '__ledger__.csv', 'restart': True, 'max_jobs_running': 1}\n"
     ]
    }
   ],
   "source": [
    "print(br.to_dict())"
   ]
  },
  {
   "cell_type": "code",
   "execution_count": 9,
   "id": "5e6a79f0-be7e-44cc-9502-47c65e38640f",
   "metadata": {},
   "outputs": [],
   "source": [
    "br.scratch_dir = '/gpfs/home/gdb20/test/queue_test/'"
   ]
  },
  {
   "cell_type": "code",
   "execution_count": 10,
   "id": "cfcd8d8e-95b1-4814-87ad-1b7523cc06d1",
   "metadata": {},
   "outputs": [],
   "source": [
    "br.batchfile = 'batchfile.csv'"
   ]
  },
  {
   "cell_type": "code",
   "execution_count": 11,
   "id": "2d78ff2c-c503-4029-ad40-e4cd4f3e2037",
   "metadata": {},
   "outputs": [
    {
     "name": "stdout",
     "output_type": "stream",
     "text": [
      "batchfile contents:\n",
      "                           job_basename job_directory program\n",
      "0     cyclopentanone_singlet_hf_3c_opt_            ./    ORCA\n",
      "1         aceticacid_singlet_hf_3c_opt_            ./    ORCA\n",
      "2       ethylacetate_singlet_hf_3c_opt_            ./    ORCA\n",
      "3         oxalicacid_singlet_hf_3c_opt_            ./    ORCA\n",
      "4      methylacetate_singlet_hf_3c_opt_            ./    ORCA\n",
      "5  gammabutyrolactam_singlet_hf_3c_opt_            ./    ORCA\n",
      "6            ethanol_singlet_hf_3c_opt_            ./    ORCA\n",
      "7              water_singlet_hf_3c_opt_            ./    ORCA\n",
      "8      methylformate_singlet_hf_3c_opt_            ./    ORCA\n"
     ]
    },
    {
     "data": {
      "text/html": [
       "<div>\n",
       "<style scoped>\n",
       "    .dataframe tbody tr th:only-of-type {\n",
       "        vertical-align: middle;\n",
       "    }\n",
       "\n",
       "    .dataframe tbody tr th {\n",
       "        vertical-align: top;\n",
       "    }\n",
       "\n",
       "    .dataframe thead th {\n",
       "        text-align: right;\n",
       "    }\n",
       "</style>\n",
       "<table border=\"1\" class=\"dataframe\">\n",
       "  <thead>\n",
       "    <tr style=\"text-align: right;\">\n",
       "      <th></th>\n",
       "      <th>job_id</th>\n",
       "      <th>job_basename</th>\n",
       "      <th>job_directory</th>\n",
       "      <th>job_status</th>\n",
       "      <th>program</th>\n",
       "    </tr>\n",
       "  </thead>\n",
       "  <tbody>\n",
       "    <tr>\n",
       "      <th>0</th>\n",
       "      <td>-1</td>\n",
       "      <td>cyclopentanone_singlet_hf_3c_opt_</td>\n",
       "      <td>/gpfs/home/gdb20/test/queue_test/./</td>\n",
       "      <td>not_started</td>\n",
       "      <td>ORCA</td>\n",
       "    </tr>\n",
       "    <tr>\n",
       "      <th>1</th>\n",
       "      <td>-1</td>\n",
       "      <td>aceticacid_singlet_hf_3c_opt_</td>\n",
       "      <td>/gpfs/home/gdb20/test/queue_test/./</td>\n",
       "      <td>not_started</td>\n",
       "      <td>ORCA</td>\n",
       "    </tr>\n",
       "    <tr>\n",
       "      <th>2</th>\n",
       "      <td>-1</td>\n",
       "      <td>ethylacetate_singlet_hf_3c_opt_</td>\n",
       "      <td>/gpfs/home/gdb20/test/queue_test/./</td>\n",
       "      <td>not_started</td>\n",
       "      <td>ORCA</td>\n",
       "    </tr>\n",
       "    <tr>\n",
       "      <th>3</th>\n",
       "      <td>-1</td>\n",
       "      <td>oxalicacid_singlet_hf_3c_opt_</td>\n",
       "      <td>/gpfs/home/gdb20/test/queue_test/./</td>\n",
       "      <td>not_started</td>\n",
       "      <td>ORCA</td>\n",
       "    </tr>\n",
       "    <tr>\n",
       "      <th>4</th>\n",
       "      <td>-1</td>\n",
       "      <td>methylacetate_singlet_hf_3c_opt_</td>\n",
       "      <td>/gpfs/home/gdb20/test/queue_test/./</td>\n",
       "      <td>not_started</td>\n",
       "      <td>ORCA</td>\n",
       "    </tr>\n",
       "    <tr>\n",
       "      <th>5</th>\n",
       "      <td>-1</td>\n",
       "      <td>gammabutyrolactam_singlet_hf_3c_opt_</td>\n",
       "      <td>/gpfs/home/gdb20/test/queue_test/./</td>\n",
       "      <td>not_started</td>\n",
       "      <td>ORCA</td>\n",
       "    </tr>\n",
       "    <tr>\n",
       "      <th>6</th>\n",
       "      <td>-1</td>\n",
       "      <td>ethanol_singlet_hf_3c_opt_</td>\n",
       "      <td>/gpfs/home/gdb20/test/queue_test/./</td>\n",
       "      <td>not_started</td>\n",
       "      <td>ORCA</td>\n",
       "    </tr>\n",
       "    <tr>\n",
       "      <th>7</th>\n",
       "      <td>-1</td>\n",
       "      <td>water_singlet_hf_3c_opt_</td>\n",
       "      <td>/gpfs/home/gdb20/test/queue_test/./</td>\n",
       "      <td>not_started</td>\n",
       "      <td>ORCA</td>\n",
       "    </tr>\n",
       "    <tr>\n",
       "      <th>8</th>\n",
       "      <td>-1</td>\n",
       "      <td>methylformate_singlet_hf_3c_opt_</td>\n",
       "      <td>/gpfs/home/gdb20/test/queue_test/./</td>\n",
       "      <td>not_started</td>\n",
       "      <td>ORCA</td>\n",
       "    </tr>\n",
       "  </tbody>\n",
       "</table>\n",
       "</div>"
      ],
      "text/plain": [
       "   job_id                          job_basename  \\\n",
       "0      -1     cyclopentanone_singlet_hf_3c_opt_   \n",
       "1      -1         aceticacid_singlet_hf_3c_opt_   \n",
       "2      -1       ethylacetate_singlet_hf_3c_opt_   \n",
       "3      -1         oxalicacid_singlet_hf_3c_opt_   \n",
       "4      -1      methylacetate_singlet_hf_3c_opt_   \n",
       "5      -1  gammabutyrolactam_singlet_hf_3c_opt_   \n",
       "6      -1            ethanol_singlet_hf_3c_opt_   \n",
       "7      -1              water_singlet_hf_3c_opt_   \n",
       "8      -1      methylformate_singlet_hf_3c_opt_   \n",
       "\n",
       "                         job_directory   job_status program  \n",
       "0  /gpfs/home/gdb20/test/queue_test/./  not_started    ORCA  \n",
       "1  /gpfs/home/gdb20/test/queue_test/./  not_started    ORCA  \n",
       "2  /gpfs/home/gdb20/test/queue_test/./  not_started    ORCA  \n",
       "3  /gpfs/home/gdb20/test/queue_test/./  not_started    ORCA  \n",
       "4  /gpfs/home/gdb20/test/queue_test/./  not_started    ORCA  \n",
       "5  /gpfs/home/gdb20/test/queue_test/./  not_started    ORCA  \n",
       "6  /gpfs/home/gdb20/test/queue_test/./  not_started    ORCA  \n",
       "7  /gpfs/home/gdb20/test/queue_test/./  not_started    ORCA  \n",
       "8  /gpfs/home/gdb20/test/queue_test/./  not_started    ORCA  "
      ]
     },
     "execution_count": 11,
     "metadata": {},
     "output_type": "execute_result"
    }
   ],
   "source": [
    "br.read_batchfile()"
   ]
  },
  {
   "cell_type": "code",
   "execution_count": null,
   "id": "91b3ecc1-168d-4950-a225-1b7934a8e4bd",
   "metadata": {},
   "outputs": [
    {
     "name": "stdout",
     "output_type": "stream",
     "text": [
      "batchfile contents:\n",
      "                           job_basename job_directory program\n",
      "0     cyclopentanone_singlet_hf_3c_opt_            ./    ORCA\n",
      "1         aceticacid_singlet_hf_3c_opt_            ./    ORCA\n",
      "2       ethylacetate_singlet_hf_3c_opt_            ./    ORCA\n",
      "3         oxalicacid_singlet_hf_3c_opt_            ./    ORCA\n",
      "4      methylacetate_singlet_hf_3c_opt_            ./    ORCA\n",
      "5  gammabutyrolactam_singlet_hf_3c_opt_            ./    ORCA\n",
      "6            ethanol_singlet_hf_3c_opt_            ./    ORCA\n",
      "7              water_singlet_hf_3c_opt_            ./    ORCA\n",
      "8      methylformate_singlet_hf_3c_opt_            ./    ORCA\n",
      "reading batchfile on startup\n"
     ]
    }
   ],
   "source": [
    "br.MainLoop()"
   ]
  },
  {
   "cell_type": "code",
   "execution_count": null,
   "id": "f95f374b-9b5c-4617-bfd4-0b69b27a69b8",
   "metadata": {},
   "outputs": [],
   "source": []
  },
  {
   "cell_type": "code",
   "execution_count": null,
   "id": "6569e7e4-3977-4e62-9805-6e6eaa57da55",
   "metadata": {},
   "outputs": [],
   "source": []
  },
  {
   "cell_type": "code",
   "execution_count": null,
   "id": "6eaddd28-a05e-4a01-bb53-d0beb3e6885b",
   "metadata": {},
   "outputs": [],
   "source": []
  },
  {
   "cell_type": "code",
   "execution_count": null,
   "id": "35ae10c9-4250-4324-8221-e01b7392a51d",
   "metadata": {},
   "outputs": [],
   "source": []
  }
 ],
 "metadata": {
  "kernelspec": {
   "display_name": "Python 3 (ipykernel)",
   "language": "python",
   "name": "python3"
  },
  "language_info": {
   "codemirror_mode": {
    "name": "ipython",
    "version": 3
   },
   "file_extension": ".py",
   "mimetype": "text/x-python",
   "name": "python",
   "nbconvert_exporter": "python",
   "pygments_lexer": "ipython3",
   "version": "3.11.5"
  }
 },
 "nbformat": 4,
 "nbformat_minor": 5
}
